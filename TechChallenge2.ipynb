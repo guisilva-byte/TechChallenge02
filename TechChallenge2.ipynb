{
  "nbformat": 4,
  "nbformat_minor": 0,
  "metadata": {
    "colab": {
      "provenance": []
    },
    "kernelspec": {
      "name": "python3",
      "display_name": "Python 3"
    },
    "language_info": {
      "name": "python"
    }
  },
  "cells": [
    {
      "cell_type": "markdown",
      "source": [
        "**Guilherme Augusto da Silva**\n",
        "\n",
        "**RM 354300**"
      ],
      "metadata": {
        "id": "m5_Fo0zvfb-F"
      }
    },
    {
      "cell_type": "markdown",
      "source": [
        "### **DEFINIÇÃO DO PROBLEMA**\n",
        "O problema do investidor com as características moderadora é encontrar uma carteira de investimentos onde se minimiza o risco, mas sem desconsiderar um bom retorno. Objetivo: Linha tênue entre minimizar o risco e maximizar o lucro!"
      ],
      "metadata": {
        "id": "pdmMoN5v94zX"
      }
    },
    {
      "cell_type": "markdown",
      "source": [
        "**Bibliotecas e Parâmetros Iniciais**"
      ],
      "metadata": {
        "id": "FzHz9IZuW4DO"
      }
    },
    {
      "cell_type": "code",
      "source": [
        "import numpy as np\n",
        "\n",
        "num_assets = 5\n",
        "population_size = 20\n",
        "elite_size = 1\n",
        "tournament_size = 3\n",
        "target_sharpe = 2.0\n",
        "mutation_rate = 0.01\n",
        "max_generations = 3\n",
        "\n",
        "historical_returns = np.array([\n",
        "    [0.01, 0.02, 0.015, -0.005, 0.007],\n",
        "    [0.012, 0.018, 0.016, -0.004, 0.009],\n",
        "    [0.015, 0.017, 0.014, -0.006, 0.008],\n",
        "    [0.013, 0.019, 0.015, -0.003, 0.007],\n",
        "    [0.014, 0.016, 0.013, -0.002, 0.009],\n",
        "    # ...\n",
        "])\n",
        "risk_free_rate = 0.01\n",
        "target_sharpe = 15"
      ],
      "metadata": {
        "id": "OFxFJm0cW-Yr"
      },
      "execution_count": 35,
      "outputs": []
    },
    {
      "cell_type": "markdown",
      "source": [
        "Importamos a biblioteca numpy para manipulação de arrays e cálculos. Definimos o número de ativos, tamanho da populado e histórico dos retornos, além da taxa de retorno livre do risco."
      ],
      "metadata": {
        "id": "UhQZb2FaX0sv"
      }
    },
    {
      "cell_type": "markdown",
      "source": [
        "**Gera População Inicial**"
      ],
      "metadata": {
        "id": "n8foMiGnWtPG"
      }
    },
    {
      "cell_type": "code",
      "source": [
        "def generate_portfolio(num_assets):\n",
        "    weights = np.random.rand(num_assets)\n",
        "    weights /= np.sum(weights)\n",
        "    return weights"
      ],
      "metadata": {
        "id": "0rWf1m2-WmU0"
      },
      "execution_count": 36,
      "outputs": []
    },
    {
      "cell_type": "markdown",
      "source": [
        "Gera uma carteira de investimentos com pesos aleatórios para cada ativo, normalizados para que a soma dos pesos seja 1. (100% do capital)"
      ],
      "metadata": {
        "id": "xss1eUcwYT-M"
      }
    },
    {
      "cell_type": "markdown",
      "source": [
        "**Função fitness**"
      ],
      "metadata": {
        "id": "RV3L-FKSYr4o"
      }
    },
    {
      "cell_type": "code",
      "source": [
        "def fitness_function(weights, returns, risk_free_rate):\n",
        "    portfolio_return = np.sum(returns.mean(axis=0) * weights)\n",
        "    portfolio_std_dev = np.sqrt(np.dot(weights.T, np.dot(np.cov(returns.T), weights)))\n",
        "    if portfolio_std_dev != 0:  # Evita divisão por zero\n",
        "        sharpe_ratio = (portfolio_return - risk_free_rate) / portfolio_std_dev\n",
        "    else:\n",
        "        sharpe_ratio = 0\n",
        "    return sharpe_ratio\n"
      ],
      "metadata": {
        "id": "lMwAqgOvYxbO"
      },
      "execution_count": 37,
      "outputs": []
    },
    {
      "cell_type": "markdown",
      "source": [
        "Função de aptidão calcula o índice de Sharpe, que é uma fórmula de retorno ajustado pelo risco da carteira."
      ],
      "metadata": {
        "id": "sCWdvFAIY9ed"
      }
    },
    {
      "cell_type": "markdown",
      "source": [
        "O Índice de Sharpe é definido como:\n",
        "Sharpe Ratio\n",
        "=\n",
        "(𝐸\n",
        "(𝑅𝑝)\n",
        "−\n",
        "𝑅𝑓) /\n",
        "𝜎𝑝\n",
        "\n",
        "Onde:\n",
        "\n",
        "E(𝑅𝑝)\n",
        "é o retorno esperado da carteira.\n",
        "𝑅𝑓\n",
        "é a taxa de retorno livre de risco.\n",
        "𝜎𝑝\n",
        "é o desvio padrão do retorno da carteira (medida de risco).\n",
        "O Índice de Sharpe indica quanto retorno em excesso (acima do retorno livre de risco) é obtido por unidade de risco. Quanto maior o Índice de Sharpe, melhor é o retorno ajustado pelo risco da carteira."
      ],
      "metadata": {
        "id": "ybY8kPqoZbfw"
      }
    },
    {
      "cell_type": "markdown",
      "source": [
        "**Geração da População Inicial e Cálculo da Aptidão**"
      ],
      "metadata": {
        "id": "tlRO9R-TaZqq"
      }
    },
    {
      "cell_type": "code",
      "source": [
        "population = [generate_portfolio(num_assets) for _ in range(population_size)]\n",
        "\n",
        "for i, portfolio in enumerate(population):\n",
        "    fitness = fitness_function(portfolio, historical_returns, risk_free_rate)\n",
        "    print(f\"Carteira {i + 1}: {portfolio}, Fitness (Índice de Sharpe): {fitness}\")\n"
      ],
      "metadata": {
        "colab": {
          "base_uri": "https://localhost:8080/"
        },
        "id": "wIPS0y8WaY87",
        "outputId": "1eb8de39-ef16-441d-b30a-0498927dacc2"
      },
      "execution_count": 38,
      "outputs": [
        {
          "output_type": "stream",
          "name": "stdout",
          "text": [
            "Carteira 1: [0.21120341 0.11202615 0.27511508 0.09563171 0.30602365], Fitness (Índice de Sharpe): 1.8943951636174567\n",
            "Carteira 2: [0.25387818 0.28600805 0.08981163 0.30134229 0.06895985], Fitness (Índice de Sharpe): -2.1050373726087646\n",
            "Carteira 3: [0.30145089 0.05709528 0.15383083 0.18369291 0.30393008], Fitness (Índice de Sharpe): -1.703242046171541\n",
            "Carteira 4: [0.04703683 0.30765589 0.29512779 0.32027488 0.0299046 ], Fitness (Índice de Sharpe): -0.8542971686396891\n",
            "Carteira 5: [0.34657524 0.13822131 0.31342816 0.09034924 0.11142605], Fitness (Índice de Sharpe): 4.442502811241238\n",
            "Carteira 6: [0.14816222 0.02722158 0.31174626 0.18070996 0.33215998], Fitness (Índice de Sharpe): -2.105313469738447\n",
            "Carteira 7: [0.17074728 0.17148603 0.24781355 0.18243059 0.22752255], Fitness (Índice de Sharpe): -0.05131528454964821\n",
            "Carteira 8: [0.13795651 0.31093605 0.25655795 0.03668089 0.25786859], Fitness (Índice de Sharpe): 7.509218382127829\n",
            "Carteira 9: [0.53638331 0.03182964 0.26816352 0.10681557 0.05680795], Fitness (Índice de Sharpe): 1.5693144784214865\n",
            "Carteira 10: [0.29655131 0.00097732 0.111877   0.54335449 0.04723988], Fitness (Índice de Sharpe): -6.183499384019267\n",
            "Carteira 11: [0.09417203 0.17364261 0.06208878 0.24590289 0.42419369], Fitness (Índice de Sharpe): -4.503465516492438\n",
            "Carteira 12: [0.24557783 0.27027331 0.25374644 0.19135331 0.03904912], Fitness (Índice de Sharpe): 3.346644576225231\n",
            "Carteira 13: [0.03247108 0.39501358 0.10451036 0.08261875 0.38538622], Fitness (Índice de Sharpe): 4.061797897816711\n",
            "Carteira 14: [0.28649594 0.32509973 0.01108781 0.31077369 0.06654283], Fitness (Índice de Sharpe): -2.1334807616099796\n",
            "Carteira 15: [0.39948359 0.13077186 0.15391792 0.19984172 0.11598492], Fitness (Índice de Sharpe): -0.24336156385557592\n",
            "Carteira 16: [0.49119625 0.21830021 0.01024843 0.22792757 0.05232754], Fitness (Índice de Sharpe): -0.1634765098474023\n",
            "Carteira 17: [0.07699151 0.01845482 0.10408158 0.38777587 0.41269622], Fitness (Índice de Sharpe): -6.5147423773000614\n",
            "Carteira 18: [0.15980218 0.1625232  0.04853337 0.35702163 0.27211962], Fitness (Índice de Sharpe): -5.685872846819512\n",
            "Carteira 19: [0.45345961 0.39771859 0.03089129 0.01263544 0.10529506], Fitness (Índice de Sharpe): 8.932770855693468\n",
            "Carteira 20: [0.17660478 0.30581222 0.15683706 0.02921582 0.33153012], Fitness (Índice de Sharpe): 9.724735070207384\n"
          ]
        }
      ]
    },
    {
      "cell_type": "markdown",
      "source": [
        "Aqui, geramos a população inicial de carteiras e calculamos o Índice de Sharpe para cada uma, que serve como medida de aptidão. Isso nos permite avaliar o desempenho inicial das carteiras."
      ],
      "metadata": {
        "id": "xw8uCqCTao9-"
      }
    },
    {
      "cell_type": "markdown",
      "source": [
        "**Seleção por Torneio e Crossover Uniforme**"
      ],
      "metadata": {
        "id": "F4oPGkhObIV4"
      }
    },
    {
      "cell_type": "code",
      "source": [
        "def tournament_selection(population, fitness_scores, k):\n",
        "    selected_indices = np.random.choice(len(population), k, replace=False)\n",
        "    selected = [(i, fitness_scores[i]) for i in selected_indices]\n",
        "    selected = sorted(selected, key=lambda x: x[1], reverse=True)\n",
        "    return population[selected[0][0]]\n",
        "\n",
        "def uniform_crossover(parent1, parent2):\n",
        "    mask = np.random.rand(len(parent1)) < 0.5\n",
        "    child = np.where(mask, parent1, parent2)\n",
        "    return child\n"
      ],
      "metadata": {
        "id": "4gyxjYR-bH3L"
      },
      "execution_count": 39,
      "outputs": []
    },
    {
      "cell_type": "markdown",
      "source": [
        "A seleção por torneio escolhe os indivíduos para reprodução com maior aptidão. O crossover uniforme gera novos filhos combinando genes dos pais de forma aleatória, promovendo diversidade genética."
      ],
      "metadata": {
        "id": "az9B2mlqbWTu"
      }
    },
    {
      "cell_type": "markdown",
      "source": [
        "**Mutação Gaussiana**"
      ],
      "metadata": {
        "id": "WMHCfhrNbq94"
      }
    },
    {
      "cell_type": "code",
      "source": [
        "def gaussian_mutation(weights, mutation_rate):\n",
        "    return weights + np.random.normal(0, mutation_rate, len(weights))\n"
      ],
      "metadata": {
        "id": "nEYF4hAUZanT"
      },
      "execution_count": 40,
      "outputs": []
    },
    {
      "cell_type": "markdown",
      "source": [
        "A mutação gaussiana adiciona um valor aleatório a cada peso da carteira, baseado em uma distribuição normal."
      ],
      "metadata": {
        "id": "EjkbHkUUbvIo"
      }
    },
    {
      "cell_type": "markdown",
      "source": [
        "**Evolução e Substituição da População**"
      ],
      "metadata": {
        "id": "CuHQYcAQb2LI"
      }
    },
    {
      "cell_type": "code",
      "source": [
        "generation = 0\n",
        "while generation < max_generations:\n",
        "    fitness_scores = np.array([fitness_function(portfolio, historical_returns, risk_free_rate) for portfolio in population])\n",
        "\n",
        "    max_fitness = np.max(fitness_scores)\n",
        "    if max_fitness >= target_sharpe:\n",
        "        break\n",
        "\n",
        "    elite_indices = np.argsort(fitness_scores)[-elite_size:]\n",
        "    elite_individuals = [population[i] for i in elite_indices]\n",
        "\n",
        "    new_population = elite_individuals.copy()\n",
        "    while len(new_population) < population_size:\n",
        "        parent1 = tournament_selection(population, fitness_scores, tournament_size)\n",
        "        parent2 = tournament_selection(population, fitness_scores, tournament_size)\n",
        "        child = uniform_crossover(parent1, parent2)\n",
        "        child = gaussian_mutation(child, mutation_rate)\n",
        "        child /= np.sum(child)\n",
        "        new_population.append(child)\n",
        "\n",
        "    population = new_population\n",
        "    generation += 1"
      ],
      "metadata": {
        "id": "2pYrsSIZb3Yr"
      },
      "execution_count": 41,
      "outputs": []
    },
    {
      "cell_type": "markdown",
      "source": [
        "Neste loop, a aptidão de cada carteira é calculada e a melhor aptidão é comparada com um alvo. Se o alvo é atingido, o processo é encerrado. Caso contrário, uma nova população é gerada através de elitismo, seleção por torneio, crossover e mutação. A nova população substitui a antiga, e o ciclo continua até que a condição de término seja atendida."
      ],
      "metadata": {
        "id": "LzqXJaGcc8AD"
      }
    },
    {
      "cell_type": "markdown",
      "source": [
        "**Resultado Final**"
      ],
      "metadata": {
        "id": "vm58dbWXc-eY"
      }
    },
    {
      "cell_type": "code",
      "source": [
        "for i, portfolio in enumerate(population):\n",
        "    fitness = fitness_function(portfolio, historical_returns, risk_free_rate)\n",
        "    print(f\"Carteira {i + 1}: {portfolio}, Fitness (Índice de Sharpe): {fitness}\")\n",
        "\n",
        "print(f\"Evolução concluída em {generation} gerações com melhor Índice de Sharpe: {max_fitness}\")\n"
      ],
      "metadata": {
        "colab": {
          "base_uri": "https://localhost:8080/"
        },
        "id": "6FrtFXOFdAy_",
        "outputId": "9acd6a5b-d6d7-480d-fb81-634556aa438f"
      },
      "execution_count": 42,
      "outputs": [
        {
          "output_type": "stream",
          "name": "stdout",
          "text": [
            "Carteira 1: [0.20351683 0.37048398 0.15515936 0.04178074 0.22905909], Fitness (Índice de Sharpe): 10.675588349320751\n",
            "Carteira 2: [0.19301415 0.33930295 0.14675107 0.02549374 0.2954381 ], Fitness (Índice de Sharpe): 11.300283264908455\n",
            "Carteira 3: [0.25650355 0.55558067 0.03052648 0.03062154 0.12676776], Fitness (Índice de Sharpe): 10.4491900027609\n",
            "Carteira 4: [0.2766161  0.29955801 0.2030635  0.03216943 0.18859297], Fitness (Índice de Sharpe): 10.764568615237888\n",
            "Carteira 5: [0.32400422 0.32419919 0.25412999 0.0301075  0.06755911], Fitness (Índice de Sharpe): 10.463365258630793\n",
            "Carteira 6: [0.12810805 0.32912773 0.25659586 0.03042962 0.25573874], Fitness (Índice de Sharpe): 7.4360760797085765\n",
            "Carteira 7: [0.35156044 0.34327264 0.20366653 0.02635334 0.07514705], Fitness (Índice de Sharpe): 10.840895908873966\n",
            "Carteira 8: [0.21490164 0.33912054 0.16824608 0.03721122 0.24052052], Fitness (Índice de Sharpe): 11.032989682100002\n",
            "Carteira 9: [0.2165322  0.32345626 0.17299602 0.03700335 0.25001216], Fitness (Índice de Sharpe): 10.869589864587526\n",
            "Carteira 10: [0.17676915 0.29879154 0.16886475 0.01294074 0.34263382], Fitness (Índice de Sharpe): 9.963826289443585\n",
            "Carteira 11: [0.2865567  0.26608412 0.15085321 0.02343168 0.2730743 ], Fitness (Índice de Sharpe): 8.66659587157826\n",
            "Carteira 12: [0.19848622 0.30241229 0.16757614 0.0199411  0.31158424], Fitness (Índice de Sharpe): 10.549985395541132\n",
            "Carteira 13: [0.17855473 0.30608541 0.16240924 0.01307865 0.33987197], Fitness (Índice de Sharpe): 10.278080506357853\n",
            "Carteira 14: [0.17949899 0.32238672 0.1455564  0.02637814 0.32617974], Fitness (Índice de Sharpe): 10.488972355550247\n",
            "Carteira 15: [0.30402056 0.23274438 0.17153598 0.01377364 0.27792544], Fitness (Índice de Sharpe): 7.398250114856474\n",
            "Carteira 16: [0.20081373 0.29090967 0.14779197 0.02531393 0.33517071], Fitness (Índice de Sharpe): 9.82762400665146\n",
            "Carteira 17: [0.20574629 0.30058157 0.16581802 0.0299012  0.29795292], Fitness (Índice de Sharpe): 10.357105367770476\n",
            "Carteira 18: [0.17353228 0.32337284 0.16464976 0.02069958 0.31774553], Fitness (Índice de Sharpe): 10.263898528379997\n",
            "Carteira 19: [0.18195263 0.28085129 0.24095679 0.0190506  0.27718869], Fitness (Índice de Sharpe): 9.166776712956228\n",
            "Carteira 20: [0.18171412 0.31489422 0.17037088 0.01788769 0.31513309], Fitness (Índice de Sharpe): 10.422921261443225\n",
            "Evolução concluída em 3 gerações com melhor Índice de Sharpe: 10.675588349320751\n"
          ]
        }
      ]
    },
    {
      "cell_type": "markdown",
      "source": [
        "**Conclusões**\n",
        "\n",
        "As carteiras geradas pelo algoritmo genético mostram uma diversificação razoável entre os ativos, indicando um bom balanceamento de risco e retorno. Apesar de o algoritmo ter evoluído por apenas três gerações, os Índices de Sharpe permaneceram consistentemente altos, sugerindo que o modelo atingiu rapidamente um ponto de saturação ou que o espaço de busca é limitado. É crucial verificar se os dados históricos de retornos são realistas e se os parâmetros do modelo estão adequados para evitar superestimações e garantir que os resultados sejam representativos de condições reais de mercado."
      ],
      "metadata": {
        "id": "_h3GuXOafGU8"
      }
    }
  ]
}